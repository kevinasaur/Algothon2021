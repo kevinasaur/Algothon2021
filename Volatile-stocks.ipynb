{
 "cells": [
  {
   "cell_type": "code",
   "execution_count": 11,
   "metadata": {},
   "outputs": [],
   "source": [
    "import numpy as np\n",
    "import matplotlib.pyplot as plt\n",
    "plt.style.use(\"ggplot\")"
   ]
  },
  {
   "cell_type": "markdown",
   "metadata": {},
   "source": [
    "## 1. Trading volatile stocks"
   ]
  },
  {
   "cell_type": "markdown",
   "metadata": {},
   "source": [
    "### Michael's trading function"
   ]
  },
  {
   "cell_type": "code",
   "execution_count": 7,
   "metadata": {},
   "outputs": [],
   "source": [
    "def volatilePos(prcSoFar, window, thresh1, thresh2):\n",
    "\n",
    "    # Note: prcSoFar is a transposed version of prices250.txt so stocks are the rows\n",
    "    volatile = prcSoFar[50:,]\n",
    "\n",
    "    # For volatile testing, position of 0's for first 50 stocks\n",
    "    pos = np.zeros(100)\n",
    "\n",
    "    # Count of \n",
    "    stock_num = 50\n",
    "\n",
    "    for stock in volatile:\n",
    "\n",
    "        # Get latest day prices\n",
    "        t = len(stock) - 1\n",
    "\n",
    "        curr_price = stock[t]\n",
    "        mean = np.mean(stock[t-window:t-1])\n",
    "        global_mean = np.mean(stock[:t-1])\n",
    "        global_diff = curr_price - global_mean\n",
    "        diff_mean = curr_price - mean \n",
    "        last_move = curr_price - stock[t-1]\n",
    "        recent_trend = stock[t-1] - stock[t-window]\n",
    "        \n",
    "        # Thresholds subject to optimisation\n",
    "        if (last_move - recent_trend > thresh1) and (diff_mean > thresh2):\n",
    "            # placeholder for amount of stocks to sell, probably determined by global mean\n",
    "#             pos[stock_num] = -100**np.abs(global_diff)\n",
    "            pos[stock_num] = np.ceil(-10000/curr_price)\n",
    "        elif (last_move - recent_trend < -thresh1) and (diff_mean < -thresh2):\n",
    "            # placeholder for amount of stocks to buy, probably determined by global mean\n",
    "#             pos[stock_num] = 100**np.abs(global_diff)\n",
    "            pos[stock_num] = np.floor(10000/curr_price)\n",
    "\n",
    "        #print(\"Stock: \", stock_num, \"\\n Spikes: \", spikes, \"\\n Drops: \", drops)\n",
    "        stock_num += 1\n",
    "#     print(pos)\n",
    "    return pos"
   ]
  },
  {
   "cell_type": "markdown",
   "metadata": {},
   "source": [
    "### Evaluation function"
   ]
  },
  {
   "cell_type": "code",
   "execution_count": 9,
   "metadata": {},
   "outputs": [
    {
     "name": "stdout",
     "output_type": "stream",
     "text": [
      "Loaded 100 instruments for 250 days\n"
     ]
    }
   ],
   "source": [
    "nInst = 0\n",
    "nt = 0\n",
    "\n",
    "# Commission rate.\n",
    "commRate = 0.0050\n",
    "\n",
    "# Dollar position limit (maximum absolute dollar value of any individual stock position).\n",
    "dlrPosLimit = 10000\n",
    "\n",
    "def loadPrices(fn):\n",
    "    global nt, nInst\n",
    "    df=pd.read_csv(fn, sep='\\s+', header=None, index_col=None)\n",
    "    nt, nInst = df.values.shape\n",
    "    return (df.values).T\n",
    "\n",
    "pricesFile=\"prices250.txt\"\n",
    "prcAll = loadPrices(pricesFile)\n",
    "print (\"Loaded %d instruments for %d days\" % (nInst, nt))\n",
    "\n",
    "def calcPL(prcHist, window, t1, t2):\n",
    "    cash = 0\n",
    "    curPos = np.zeros(nInst)\n",
    "    totDVolume = 0\n",
    "    totDVolume0 = 0\n",
    "    totDVolume1 = 0\n",
    "    frac0 = 0.\n",
    "    frac1 = 0.\n",
    "    value = 0\n",
    "    todayPLL = []\n",
    "    (_,nt) = prcHist.shape\n",
    "    for t in range(window,251):\n",
    "        prcHistSoFar = prcHist[:,:t]\n",
    "        newPosOrig = volatilePos(prcHistSoFar, window, t1, t2)\n",
    "        curPrices = prcHistSoFar[:,-1] \n",
    "        posLimits = np.array([int(x) for x in dlrPosLimit / curPrices])\n",
    "        newPos = np.array([int(p) for p in np.clip(newPosOrig, -posLimits, posLimits)])\n",
    "        deltaPos = newPos - curPos\n",
    "        dvolumes = curPrices * np.abs(deltaPos)\n",
    "        dvolume0 = np.sum(dvolumes[:50])\n",
    "        dvolume1 = np.sum(dvolumes[50:])\n",
    "        dvolume = np.sum(dvolumes)\n",
    "        totDVolume += dvolume\n",
    "        totDVolume0 += dvolume0\n",
    "        totDVolume1 += dvolume1\n",
    "        comm = dvolume * commRate\n",
    "        cash -= curPrices.dot(deltaPos) + comm\n",
    "        curPos = np.array(newPos)\n",
    "        posValue = curPos.dot(curPrices)\n",
    "        todayPL = cash + posValue - value\n",
    "        todayPLL.append(todayPL)\n",
    "        value = cash + posValue\n",
    "        ret = 0.0\n",
    "        if (totDVolume > 0):\n",
    "            ret = value / totDVolume\n",
    "            frac0 = totDVolume0 / totDVolume\n",
    "            frac1 = totDVolume1 / totDVolume\n",
    "#         print (\"Day %d value: %.2lf todayPL: $%.2lf $-traded: %.0lf return: %.5lf frac0: %.4lf frac1: %.4lf\" % (t,value, todayPL, totDVolume, ret, frac0, frac1))\n",
    "    pll = np.array(todayPLL)\n",
    "    (plmu,plstd) = (np.mean(pll), np.std(pll))\n",
    "    annSharpe = 0.0\n",
    "    if (plstd > 0):\n",
    "        annSharpe = 16 * plmu / plstd\n",
    "    return (plmu, ret, annSharpe, totDVolume)"
   ]
  },
  {
   "cell_type": "markdown",
   "metadata": {},
   "source": [
    "#### Run this cell to test the eval function"
   ]
  },
  {
   "cell_type": "code",
   "execution_count": null,
   "metadata": {},
   "outputs": [],
   "source": [
    "(meanpl, ret, sharpe, dvol) = calcPL(prcAll, 10, 0.68, 3)\n",
    "print (\"=====\")\n",
    "print (\"mean(PL): %.0lf\" % meanpl)\n",
    "print (\"return: %.5lf\" % ret)\n",
    "print (\"annSharpe(PL): %.2lf \" % sharpe)\n",
    "print (\"totDvolume: %.0lf \" % dvol)"
   ]
  },
  {
   "cell_type": "code",
   "execution_count": null,
   "metadata": {},
   "outputs": [],
   "source": []
  },
  {
   "cell_type": "markdown",
   "metadata": {},
   "source": [
    "## 2. Tuning parameters"
   ]
  },
  {
   "cell_type": "code",
   "execution_count": 12,
   "metadata": {},
   "outputs": [
    {
     "name": "stderr",
     "output_type": "stream",
     "text": [
      "/home/sam/.local/lib/python3.6/site-packages/numpy/core/fromnumeric.py:3373: RuntimeWarning: Mean of empty slice.\n",
      "  out=out, **kwargs)\n",
      "/home/sam/.local/lib/python3.6/site-packages/numpy/core/_methods.py:170: RuntimeWarning: invalid value encountered in double_scalars\n",
      "  ret = ret.dtype.type(ret / rcount)\n"
     ]
    },
    {
     "name": "stdout",
     "output_type": "stream",
     "text": [
      "Done window: 3\n",
      "Done window: 5\n",
      "Done window: 7\n",
      "Done window: 10\n",
      "Done window: 20\n"
     ]
    },
    {
     "data": {
      "image/png": "[encoded data removed]",
      "text/plain": [
       "<Figure size 432x288 with 1 Axes>"
      ]
     },
     "metadata": {},
     "output_type": "display_data"
    }
   ],
   "source": [
    "# custom grid search\n",
    "markers = [\".\", \"^\", \"s\", \"P\", \"<\"] # number of markers needs to match number of windows\n",
    "colours = [\"red\", \"orange\", \"yellow\", \"cyan\", \"blue\", \"green\"]\n",
    "\n",
    "windows = [3, 5, 7, 10, 20]\n",
    "thresh = np.linspace(0.1, 3, 6)\n",
    "\n",
    "for m, window in zip(markers, windows):\n",
    "    for c1, t1 in zip(colours, thresh):\n",
    "        for c2, t2 in zip(colours, thresh):\n",
    "            (meanpl, ret, sharpe, dvol) = calcPL(prcAll, window, t1, t2)\n",
    "            if sharpe > 0 and ret > 0: plt.scatter(sharpe, ret, edgecolors=c2, c=c1, marker=m, s=100)\n",
    "    print(\"Done window: \" + str(window))\n",
    "\n",
    "plt.xlabel(\"Sharpe ratio\")\n",
    "plt.ylabel(\"Return\")\n",
    "plt.show()"
   ]
  },
  {
   "cell_type": "code",
   "execution_count": null,
   "metadata": {},
   "outputs": [],
   "source": []
  },
  {
   "cell_type": "code",
   "execution_count": null,
   "metadata": {},
   "outputs": [],
   "source": []
  }
 ],
 "metadata": {
  "kernelspec": {
   "display_name": "Python 3",
   "language": "python",
   "name": "python3"
  },
  "language_info": {
   "codemirror_mode": {
    "name": "ipython",
    "version": 3
   },
   "file_extension": ".py",
   "mimetype": "text/x-python",
   "name": "python",
   "nbconvert_exporter": "python",
   "pygments_lexer": "ipython3",
   "version": "3.6.8"
  }
 },
 "nbformat": 4,
 "nbformat_minor": 4
}
